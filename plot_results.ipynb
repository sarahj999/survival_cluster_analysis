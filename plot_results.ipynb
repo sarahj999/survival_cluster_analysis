{
 "cells": [
  {
   "cell_type": "code",
   "execution_count": 1,
   "id": "fa81bd45",
   "metadata": {},
   "outputs": [
    {
     "name": "stderr",
     "output_type": "stream",
     "text": [
      "C:\\Users\\Sarah\\anaconda3\\envs\\py364\\lib\\site-packages\\tensorflow\\python\\framework\\dtypes.py:519: FutureWarning: Passing (type, 1) or '1type' as a synonym of type is deprecated; in a future version of numpy, it will be understood as (type, (1,)) / '(1,)type'.\n",
      "  _np_qint8 = np.dtype([(\"qint8\", np.int8, 1)])\n",
      "C:\\Users\\Sarah\\anaconda3\\envs\\py364\\lib\\site-packages\\tensorflow\\python\\framework\\dtypes.py:520: FutureWarning: Passing (type, 1) or '1type' as a synonym of type is deprecated; in a future version of numpy, it will be understood as (type, (1,)) / '(1,)type'.\n",
      "  _np_quint8 = np.dtype([(\"quint8\", np.uint8, 1)])\n",
      "C:\\Users\\Sarah\\anaconda3\\envs\\py364\\lib\\site-packages\\tensorflow\\python\\framework\\dtypes.py:521: FutureWarning: Passing (type, 1) or '1type' as a synonym of type is deprecated; in a future version of numpy, it will be understood as (type, (1,)) / '(1,)type'.\n",
      "  _np_qint16 = np.dtype([(\"qint16\", np.int16, 1)])\n",
      "C:\\Users\\Sarah\\anaconda3\\envs\\py364\\lib\\site-packages\\tensorflow\\python\\framework\\dtypes.py:522: FutureWarning: Passing (type, 1) or '1type' as a synonym of type is deprecated; in a future version of numpy, it will be understood as (type, (1,)) / '(1,)type'.\n",
      "  _np_quint16 = np.dtype([(\"quint16\", np.uint16, 1)])\n",
      "C:\\Users\\Sarah\\anaconda3\\envs\\py364\\lib\\site-packages\\tensorflow\\python\\framework\\dtypes.py:523: FutureWarning: Passing (type, 1) or '1type' as a synonym of type is deprecated; in a future version of numpy, it will be understood as (type, (1,)) / '(1,)type'.\n",
      "  _np_qint32 = np.dtype([(\"qint32\", np.int32, 1)])\n",
      "C:\\Users\\Sarah\\anaconda3\\envs\\py364\\lib\\site-packages\\tensorflow\\python\\framework\\dtypes.py:528: FutureWarning: Passing (type, 1) or '1type' as a synonym of type is deprecated; in a future version of numpy, it will be understood as (type, (1,)) / '(1,)type'.\n",
      "  np_resource = np.dtype([(\"resource\", np.ubyte, 1)])\n"
     ]
    }
   ],
   "source": [
    "from utils.metrics import plot_cost, l2_loss, l1_loss\n"
   ]
  },
  {
   "cell_type": "code",
   "execution_count": 9,
   "id": "18c27226",
   "metadata": {},
   "outputs": [],
   "source": [
    "def extract_loss_values(filepath):\n",
    "    \"\"\"\n",
    "    Read a file containing training and validation loss values and extract them into separate lists.\n",
    "    \n",
    "    Parameters:\n",
    "    filepath (str): Path to the file containing loss values\n",
    "    \n",
    "    Returns:\n",
    "    tuple: (train_loss_values, valid_loss_values) as lists of floats\n",
    "    \"\"\"\n",
    "    train_loss_values = []\n",
    "    valid_loss_values = []\n",
    "    \n",
    "    try:\n",
    "        with open(filepath, 'r') as file:\n",
    "            for line in file:\n",
    "                # Skip empty lines\n",
    "                if not line.strip():\n",
    "                    continue\n",
    "                    \n",
    "                # Look for lines containing loss values\n",
    "                # This assumes a format like \"Epoch X: train_loss=0.123, valid_loss=0.456\"\n",
    "                # Adjust the parsing logic based on your actual file format\n",
    "                if \"Train Loss\" in line and \"Valid Loss\" in line:\n",
    "                    # Extract the train loss\n",
    "                    train_part = line.split(\"Train Loss:\")[1].split(\",\")[0]\n",
    "                    train_loss = float(train_part.strip())\n",
    "                    train_loss_values.append(train_loss)\n",
    "                    \n",
    "                    # Extract the valid loss\n",
    "                    valid_part = line.split(\"Valid Loss:\")[1].split(\",\")[0]\n",
    "                    valid_loss = float(valid_part.strip())\n",
    "                    valid_loss_values.append(valid_loss)\n",
    "        \n",
    "        print(f\"Extracted {len(train_loss_values)} training loss values and {len(valid_loss_values)} validation loss values\")\n",
    "        return train_loss_values, valid_loss_values\n",
    "    \n",
    "    except FileNotFoundError:\n",
    "        print(f\"Error: File {filepath} not found\")\n",
    "        return [], []\n",
    "    except Exception as e:\n",
    "        print(f\"Error parsing file: {e}\")\n",
    "        return [], []"
   ]
  },
  {
   "cell_type": "code",
   "execution_count": 11,
   "id": "1f0278e8",
   "metadata": {},
   "outputs": [
    {
     "name": "stdout",
     "output_type": "stream",
     "text": [
      "Extracted 400 training loss values and 400 validation loss values\n"
     ]
    }
   ],
   "source": [
    "# load in the data required\n",
    "data = 'model_' + 'support' + '.log'\n",
    "train_loss, valid_loss = extract_loss_values(data)\n"
   ]
  },
  {
   "cell_type": "code",
   "execution_count": 18,
   "id": "2c4d7fc3",
   "metadata": {},
   "outputs": [],
   "source": [
    "# call the plot functions\n",
    "plot_cost(training=train_loss, validation=valid_loss, model=\"SUPPORT\", name=\"loss\",\n",
    "                  epochs=400, best_epoch=171)"
   ]
  },
  {
   "cell_type": "code",
   "execution_count": 19,
   "id": "c5803035",
   "metadata": {},
   "outputs": [
    {
     "name": "stdout",
     "output_type": "stream",
     "text": [
      "Extracted 600 training loss values and 600 validation loss values\n"
     ]
    }
   ],
   "source": [
    "# load in the data required\n",
    "data = 'model_' + 'flchain' + '.log'\n",
    "train_loss, valid_loss = extract_loss_values(data)"
   ]
  },
  {
   "cell_type": "code",
   "execution_count": 20,
   "id": "a950feec",
   "metadata": {},
   "outputs": [],
   "source": [
    "# call the plot functions\n",
    "plot_cost(training=train_loss, validation=valid_loss, model=\"Flchain\", name=\"loss\",\n",
    "                  epochs=600, best_epoch=432)"
   ]
  },
  {
   "cell_type": "code",
   "execution_count": null,
   "id": "de962ab5",
   "metadata": {},
   "outputs": [],
   "source": []
  }
 ],
 "metadata": {
  "kernelspec": {
   "display_name": "Python 3",
   "language": "python",
   "name": "python3"
  },
  "language_info": {
   "codemirror_mode": {
    "name": "ipython",
    "version": 3
   },
   "file_extension": ".py",
   "mimetype": "text/x-python",
   "name": "python",
   "nbconvert_exporter": "python",
   "pygments_lexer": "ipython3",
   "version": "3.6.4"
  }
 },
 "nbformat": 4,
 "nbformat_minor": 5
}
